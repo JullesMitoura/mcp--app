{
 "cells": [
  {
   "cell_type": "code",
   "execution_count": 1,
   "id": "92b47c8a",
   "metadata": {},
   "outputs": [],
   "source": [
    "from src.agents.client_graph import graph_build\n",
    "\n",
    "graph = graph_build(clients_session = 123)"
   ]
  }
 ],
 "metadata": {
  "kernelspec": {
   "display_name": ".venv",
   "language": "python",
   "name": "python3"
  },
  "language_info": {
   "codemirror_mode": {
    "name": "ipython",
    "version": 3
   },
   "file_extension": ".py",
   "mimetype": "text/x-python",
   "name": "python",
   "nbconvert_exporter": "python",
   "pygments_lexer": "ipython3",
   "version": "3.11.0"
  }
 },
 "nbformat": 4,
 "nbformat_minor": 5
}
